{
  "nbformat": 4,
  "nbformat_minor": 0,
  "metadata": {
    "colab": {
      "name": "grok_dl_part_3.ipynb",
      "provenance": [],
      "authorship_tag": "ABX9TyPnQMXHWVHTP4hKU4uJs0WV",
      "include_colab_link": true
    },
    "kernelspec": {
      "name": "python3",
      "display_name": "Python 3"
    },
    "language_info": {
      "name": "python"
    }
  },
  "cells": [
    {
      "cell_type": "markdown",
      "metadata": {
        "id": "view-in-github",
        "colab_type": "text"
      },
      "source": [
        "<a href=\"https://colab.research.google.com/github/tral909/trask_grokaem_glubokoe_obuchenie/blob/main/grok_dl_part_3.ipynb\" target=\"_parent\"><img src=\"https://colab.research.google.com/assets/colab-badge.svg\" alt=\"Open In Colab\"/></a>"
      ]
    },
    {
      "cell_type": "markdown",
      "metadata": {
        "id": "S35IeD3fsrRB"
      },
      "source": [
        "# 3 Введение в нейронное прогнозирование: прямое распространение"
      ]
    },
    {
      "cell_type": "markdown",
      "metadata": {
        "id": "SVqqaZbhNk1d"
      },
      "source": [
        "Этот набор данных определяет текущее состояние перед\n",
        "началом каждой из первых четырех игр в сезоне:<br>\n",
        "toes = текущее среднее число игр, сыгранных игроками<br>\n",
        "wlrec = текущая доля игр, окончившихся победой (процент)<br>\n",
        "fans = число болельщиков (в миллионах)\n"
      ]
    },
    {
      "cell_type": "markdown",
      "metadata": {
        "id": "HoxKQCR0Gv6i"
      },
      "source": [
        "Код нейронной сети с несколькими входами и одним выходом. Без использования библиотек. В переменной `input` передается запись,\n",
        "соответствующая первой игре в сезоне.\n"
      ]
    },
    {
      "cell_type": "code",
      "metadata": {
        "colab": {
          "base_uri": "https://localhost:8080/"
        },
        "id": "7vu5lpoQFPg6",
        "outputId": "46eb3a0b-7268-4fb0-bb99-a38a17fe75a2"
      },
      "source": [
        "def w_sum(a, b):\n",
        "  assert len(a) == len(b)\n",
        "  sum = 0\n",
        "  for i in range(len(a)):\n",
        "    sum += a[i] * b[i]\n",
        "  return sum\n",
        "\n",
        "weights = [0.1, 0.2, 0]\n",
        "\n",
        "def neural_network(input, weights):\n",
        "  prediction = w_sum(inputs, weights)\n",
        "  return prediction\n",
        "\n",
        "toes = [8.5, 9.5, 9.9, 9.0]\n",
        "wlrec = [0.65, 0.8, 0.8, 0.9]\n",
        "nfans = [1.2, 1.3, 0.5, 1.0]\n",
        "\n",
        "input = [toes[0], wlrec[0], nfans[0]]\n",
        "pred = neural_network(input, weights)\n",
        "print(pred)\n",
        "\n"
      ],
      "execution_count": null,
      "outputs": [
        {
          "output_type": "stream",
          "text": [
            "0.9800000000000001\n"
          ],
          "name": "stdout"
        }
      ]
    },
    {
      "cell_type": "markdown",
      "metadata": {
        "id": "h-I5t9yeH-By"
      },
      "source": [
        "Код нейронной сети с несколькими входами и одним выходом c использованием `numpy`. В переменной `input` передается запись, соответствующая первой игре в сезоне."
      ]
    },
    {
      "cell_type": "code",
      "metadata": {
        "colab": {
          "base_uri": "https://localhost:8080/"
        },
        "id": "x56Rd-HZHSuh",
        "outputId": "87a39177-4f77-4472-8726-26d32e7b0dfe"
      },
      "source": [
        "import numpy as np\n",
        "\n",
        "weights = np.array([0.1, 0.2, 0])\n",
        "\n",
        "def neural_network(input, weights):\n",
        "  assert len(input) == len(weights)\n",
        "  prediction = np.dot(input, weights)\n",
        "  return prediction\n",
        "\n",
        "toes = np.array([8.5, 9.5, 9.9, 9.0])\n",
        "wlrec = np.array([0.65, 0.8, 0.8, 0.9])\n",
        "nfans = np.array([1.2, 1.3, 0.5, 1.0])\n",
        "\n",
        "input = np.array([toes[0], wlrec[0], nfans[0]])\n",
        "pred = neural_network(input, weights)\n",
        "print(pred)"
      ],
      "execution_count": null,
      "outputs": [
        {
          "output_type": "stream",
          "text": [
            "0.9800000000000001\n"
          ],
          "name": "stdout"
        }
      ]
    },
    {
      "cell_type": "markdown",
      "metadata": {
        "id": "ZS8osIVmLOjY"
      },
      "source": [
        "Код нейронной сети с одним входом и несколькими выходами."
      ]
    },
    {
      "cell_type": "code",
      "metadata": {
        "colab": {
          "base_uri": "https://localhost:8080/"
        },
        "id": "4B3zz48aLfo-",
        "outputId": "187d6c0b-8ad9-429a-ffb8-320cd81833da"
      },
      "source": [
        "weights = [0.3, 0.2, 0.9]\n",
        "\n",
        "def ele_mul(number, vector):\n",
        "  output = [0, 0, 0]\n",
        "  assert len(output) == len(vector)\n",
        "  for i in range(len(vector)):\n",
        "    output[i] = number * vector[i]\n",
        "  return output\n",
        "\n",
        "\n",
        "def neural_network(input, weights):\n",
        "  predication = ele_mul(input, weights)\n",
        "  return predication\n",
        "\n",
        "wlrec = [0.65, 0.8, 0.8, 0.9]\n",
        "pred = neural_network(wlrec[0], weights)\n",
        "print(pred)"
      ],
      "execution_count": null,
      "outputs": [
        {
          "output_type": "stream",
          "text": [
            "[0.195, 0.13, 0.5850000000000001]\n"
          ],
          "name": "stdout"
        }
      ]
    },
    {
      "cell_type": "markdown",
      "metadata": {
        "id": "82dJYEQEXbyD"
      },
      "source": [
        "Код нейронной сети с несколькими входами и несколькими выходами."
      ]
    },
    {
      "cell_type": "code",
      "metadata": {
        "id": "oc6ipivIBqUA",
        "colab": {
          "base_uri": "https://localhost:8080/"
        },
        "outputId": "f1ef440c-6be2-4de7-aef2-e63dbbf43f88"
      },
      "source": [
        "# игр % побед # болельщиков\n",
        "weights = [[ 0.1, 0.1,-0.3],  # травмы?\n",
        "           [ 0.1, 0.2, 0.0],  # победа?\n",
        "           [ 0.0, 1.3, 0.1]]  # печаль?\n",
        "\n",
        "toes = [8.5, 9.5, 9.9, 9.0]\n",
        "wlrec = [0.65, 0.8, 0.8, 0.9]\n",
        "nfans = [1.2, 1.3, 0.5, 1.0]\n",
        "\n",
        "input = [toes[0], wlrec[0], nfans[0]]\n",
        "\n",
        "def w_sum(a, b):\n",
        "  assert(len(a) == len(b))\n",
        "  sum = 0\n",
        "  for i in range(len(a)):\n",
        "    sum += a[i] * b[i]\n",
        "  return sum\n",
        "\n",
        "def vect_mat_mul(vect, matrix):\n",
        "  assert(len(vect) == len(matrix))\n",
        "  out = [0, 0, 0]\n",
        "  for i in range(len(vect)):\n",
        "    out[i] = w_sum(vect, matrix[i])\n",
        "  return out\n",
        "\n",
        "def neural_network(input, weights):\n",
        "  pred = vect_mat_mul(input, weights)\n",
        "  return pred\n",
        "\n",
        "pred = neural_network(input, weights)\n",
        "print(pred)"
      ],
      "execution_count": null,
      "outputs": [
        {
          "output_type": "stream",
          "text": [
            "[0.555, 0.9800000000000001, 0.9650000000000001]\n"
          ],
          "name": "stdout"
        }
      ]
    },
    {
      "cell_type": "markdown",
      "metadata": {
        "id": "rReZ5QK1aZWI"
      },
      "source": [
        "Код нейронной сети с несколькими входами и несколькими выходами c использованием `numpy`. Чтобы получить правильные прогнозы через функцию `numpy.dot` - вычислить верно взвешенную сумму коэффициентов, надо транспонировать (сделать строки столбцами) матрицу весов `weight`"
      ]
    },
    {
      "cell_type": "code",
      "metadata": {
        "colab": {
          "base_uri": "https://localhost:8080/"
        },
        "id": "Vc0knbPNXjUV",
        "outputId": "09408cdb-436b-4930-e6bb-e0e6e5f1696d"
      },
      "source": [
        "import numpy as np\n",
        "\n",
        "# игр % побед # болельщиков\n",
        "weights = np.array([[ 0.1, 0.1,-0.3],    # травмы?\n",
        "                    [ 0.1, 0.2, 0.0],    # победа?\n",
        "                    [ 0.0, 1.3, 0.1]]).T # печаль?\n",
        "\n",
        "toes = [8.5, 9.5, 9.9, 9.0]\n",
        "wlrec = [0.65, 0.8, 0.8, 0.9]\n",
        "nfans = [1.2, 1.3, 0.5, 1.0]\n",
        "\n",
        "input = np.array([toes[0], wlrec[0], nfans[0]])\n",
        "\n",
        "def neural_network(input, weights):\n",
        "  pred = input.dot(weights)\n",
        "  return pred\n",
        "\n",
        "pred = neural_network(input, weights)\n",
        "print(pred)"
      ],
      "execution_count": null,
      "outputs": [
        {
          "output_type": "stream",
          "text": [
            "[0.555 0.98  0.965]\n"
          ],
          "name": "stdout"
        }
      ]
    },
    {
      "cell_type": "markdown",
      "metadata": {
        "id": "0asOHGxuesHN"
      },
      "source": [
        "Сеть с несколькими входами и выходами скрытым слоем\n"
      ]
    },
    {
      "cell_type": "code",
      "metadata": {
        "colab": {
          "base_uri": "https://localhost:8080/"
        },
        "id": "So9thGRwevyW",
        "outputId": "46f5457c-7e5e-46a9-d009-2f77beae2bb7"
      },
      "source": [
        "import numpy as np\n",
        "\n",
        "# игр % побед # болельщиков\n",
        "ih_wgt = np.array([[ 0.1, 0.2,-0.1],    # hid[0]\n",
        "                   [-0.1, 0.1, 0.9],    # hid[1]\n",
        "                   [ 0.1, 0.4, 0.1]]).T # hid[2]\n",
        "\n",
        "# hid[0] hid[1] hid[2]\n",
        "hp_wgt = np.array([[ 0.3, 1.1,-0.3],    # травмы?\n",
        "                   [ 0.1, 0.2, 0.0],    # победа?\n",
        "                   [ 0.0, 1.3, 0.1]]).T # печаль?\n",
        "\n",
        "weights = [ih_wgt, hp_wgt]\n",
        "\n",
        "def neural_network(input, weights):\n",
        "  hid = input.dot(weights[0])\n",
        "  pred = hid.dot(weights[1])\n",
        "  return pred\n",
        "\n",
        "toes = [8.5, 9.5, 9.9, 9.0]\n",
        "wlrec = [0.65, 0.8, 0.8, 0.9]\n",
        "nfans = [1.2, 1.3, 0.5, 1.0]\n",
        "\n",
        "input = np.array([toes[0], wlrec[0], nfans[0]])\n",
        "\n",
        "pred = neural_network(input, weights)\n",
        "print(pred)"
      ],
      "execution_count": null,
      "outputs": [
        {
          "output_type": "stream",
          "text": [
            "[0.2135 0.145  0.5065]\n"
          ],
          "name": "stdout"
        }
      ]
    }
  ]
}