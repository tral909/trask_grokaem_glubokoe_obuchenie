{
  "nbformat": 4,
  "nbformat_minor": 0,
  "metadata": {
    "colab": {
      "name": "grok_dl_part_4.ipynb",
      "provenance": [],
      "collapsed_sections": [],
      "authorship_tag": "ABX9TyMcSOuA2QSazJ87B7dwBKr4",
      "include_colab_link": true
    },
    "kernelspec": {
      "name": "python3",
      "display_name": "Python 3"
    },
    "language_info": {
      "name": "python"
    }
  },
  "cells": [
    {
      "cell_type": "markdown",
      "metadata": {
        "id": "view-in-github",
        "colab_type": "text"
      },
      "source": [
        "<a href=\"https://colab.research.google.com/github/tral909/trask_grokaem_glubokoe_obuchenie/blob/main/grok_dl_part_4.ipynb\" target=\"_parent\"><img src=\"https://colab.research.google.com/assets/colab-badge.svg\" alt=\"Open In Colab\"/></a>"
      ]
    },
    {
      "cell_type": "markdown",
      "metadata": {
        "id": "bYMVD1PWPcyC"
      },
      "source": [
        "# 4 Введение в нейронное обучение: градиентный спуск"
      ]
    },
    {
      "cell_type": "markdown",
      "metadata": {
        "id": "GfGW9Z9vLEL7"
      },
      "source": [
        "**ЧТО ЭТО ЗА ПЕРЕМЕННАЯ GOAL_PRED?**\n",
        "\n",
        "Переменная `goal_pred`, так же как `input`, хранит число, полученное в ре­\n",
        "альном мире путем наблюдений, иногда очень сложных, как, например,\n",
        "«процент людей, надевших теплую одежду» при данной температуре воз­\n",
        "духа; или «попал ли отбивающий в хоум-ран»\n",
        "\n",
        "**ПОЧЕМУ ОШИБКА ВОЗВОДИТСЯ В КВАДРАТ?**\n",
        "\n",
        "Представьте лучника, стреляющего в мишень. Допустим, стрела попала в ми­\n",
        "шень на 2 дюйма выше центра. Насколько промахнулся лучник? А если на\n",
        "2 дюйма ниже? В обоих случаях лучник промахнулся на 2 дюйма. Основная\n",
        "причина возведения в квадрат «величины промаха» заключается в полу­\n",
        "чении положительного числа. Выражение (pred - goal_pred) может дать\n",
        "отрицательный результат, в отличие от фактической ошибки.\n",
        "\n",
        "**РАЗВЕ ВОЗВЕДЕНИЕ В КВАДРАТ НЕ УВЕЛИЧИВАЕТ БОЛЬШИЕ ОШИБКИ**\n",
        "**(>1) И НЕ УМЕНЬШАЕТ МАЛЕНЬКИЕ (<1)?**\n",
        "\n",
        "Да... Это немного странный способ измерения ошибки, но, как оказывается,\n",
        "преувеличение больших ошибок и преуменьшение маленьких — это нор­\n",
        "мально. Позднее вы будете использовать эту ошибку для обучения сети, по­\n",
        "этому лучше сосредоточить внимание на больших ошибках и игнорировать\n",
        "маленькие. Так же поступают хорошие родители: они не замечают мелких\n",
        "ошибок своих детей (например, сломанный грифель карандаша), но могут\n",
        "взорваться в случае большой ошибки (например, если сын или дочь разбили\n",
        "автомобиль). Теперь понимаете, почему возведение в квадрат может быть\n",
        "полезным?\n"
      ]
    },
    {
      "cell_type": "code",
      "metadata": {
        "id": "GiDS15zkKih_"
      },
      "source": [
        "knob_weight = 0.5\n",
        "input = 0.5\n",
        "goal_pred = 0.8\n",
        "\n",
        "pred = input * knob_weight\n",
        "error = (pred - goal_pred) ** 2\n",
        "print(error)"
      ],
      "execution_count": null,
      "outputs": []
    },
    {
      "cell_type": "markdown",
      "metadata": {
        "id": "cPuvYgoOPXOX"
      },
      "source": [
        ""
      ]
    },
    {
      "cell_type": "markdown",
      "metadata": {
        "id": "djKdih8INcbK"
      },
      "source": [
        "**ОБУЧЕНИЕ МЕТОДОМ «ХОЛОДНО/ГОРЯЧО»**\n",
        "\n",
        "Метод обучения «холодно/горячо» предполагает изменение весов в разных\n",
        "направлениях, чтобы определить, какое из них ведет к наибольшему умень­\n",
        "шению ошибки, корректировку весов в этом направлении и повторение про­\n",
        "цедуры сначала, пока ошибка не достигнет 0."
      ]
    },
    {
      "cell_type": "code",
      "metadata": {
        "id": "PuPyQo1ENeHh"
      },
      "source": [
        "weight = 0.5\n",
        "input = 0.5\n",
        "goal_prediction = 0.8\n",
        "\n",
        "# шаг изменения веса в каждой итерации\n",
        "step_amount = 0.001\n",
        "# повторить обучение много раз, чтобы получить наименьшую ошибку \n",
        "for iteration in range(1101):\n",
        "  prediction = input * weight\n",
        "  error = (prediction - goal_prediction) ** 2\n",
        "  print(\"Error:\" + str(error) + \" Prediction:\" + str(prediction))\n",
        "\n",
        "  up_prediction = input * (weight + step_amount)\n",
        "  up_error = (up_prediction - goal_prediction) ** 2\n",
        "\n",
        "  down_prediction = input * (weight - step_amount)\n",
        "  down_error = (down_prediction - goal_prediction) ** 2\n",
        "\n",
        "  if (down_error < up_error):\n",
        "    weight -= step_amount\n",
        "\n",
        "  if (down_error > up_error):\n",
        "    weight += step_amount"
      ],
      "execution_count": null,
      "outputs": []
    },
    {
      "cell_type": "markdown",
      "metadata": {
        "id": "_kdvFglrRnwW"
      },
      "source": [
        "Этот метод («ХОЛОДНО/ГОРЯЧО») неэффективен, потому что для каждого изменения веса\n",
        "приходится трижды вычислять прогноз, и step_amount выбирается произволь­\n",
        "но, что может помешать узнать правильное значение веса (при большом шаге алгоритм будет колебаться вокруг какой-то точки)."
      ]
    },
    {
      "cell_type": "markdown",
      "metadata": {
        "id": "T1mGidRcI55q"
      },
      "source": [
        "Градиентный спуск"
      ]
    },
    {
      "cell_type": "code",
      "metadata": {
        "id": "HIRBZ3qUNXiE"
      },
      "source": [
        "weight = 0.5\n",
        "goal_pred = 0.8\n",
        "input = 0.5\n",
        "\n",
        "for iteration in range(20):\n",
        "  pred = input * weight\n",
        "  error = (pred - goal_pred) ** 2\n",
        "  direction_and_amount = (pred - goal_pred) * input\n",
        "  weight -= direction_and_amount\n",
        "  print(\"Error:\" + str(error) + \" Prediction:\" + str(pred))"
      ],
      "execution_count": null,
      "outputs": []
    },
    {
      "cell_type": "markdown",
      "metadata": {
        "id": "pMeKQWz5Qryi"
      },
      "source": [
        "Понятие: обучение — это корректировка веса для уменьшения\n",
        "ошибки до О"
      ]
    },
    {
      "cell_type": "markdown",
      "metadata": {
        "id": "-O3z9hM-Qsyh"
      },
      "source": [
        "При больших входных значениях input может случится расхождение (вес будет возрастать и убывать бесконечно вверх на графике зависимости ошибки от веса). Решение проблемы за­ключается в том, чтобы умножить величину изменения веса на некоторый коэффициент, чтобы сделать ее меньше. В большинстве случаев достаточно\n",
        "умножить величину изменения веса на одно вещественное число в диапазоне от\n",
        "О до 1. Часто это число называют **альфа-коэффициентом**. "
      ]
    },
    {
      "cell_type": "code",
      "metadata": {
        "id": "JLqXpkrUq27w"
      },
      "source": [
        "weight = 0.5\n",
        "goal_pred = 0.8\n",
        "input = 2\n",
        "alpha = 0.1 # без альфа коэффициента будет расхождение\n",
        "\n",
        "for iteration in range(20):\n",
        "  pred = input * weight\n",
        "  delta = pred - goal_pred\n",
        "  error = delta ** 2\n",
        "  weight_delta = delta * input # величина изменения веса (производная)\n",
        "  weight -= alpha * weight_delta\n",
        "  print(\"Error:\" + str(error) + \" Prediction:\" + str(pred))"
      ],
      "execution_count": null,
      "outputs": []
    }
  ]
}